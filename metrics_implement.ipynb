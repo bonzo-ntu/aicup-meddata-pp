{
 "cells": [
  {
   "cell_type": "markdown",
   "metadata": {},
   "source": [
    "## Read Label Files"
   ]
  },
  {
   "cell_type": "code",
   "execution_count": 452,
   "metadata": {},
   "outputs": [
    {
     "name": "stdout",
     "output_type": "stream",
     "text": [
      "[['1001', 'IDNUM', '13', '23', '88Y206206L'], ['1001', 'MEDICALRECORD', '24', '35', '8892062.BPL'], ['1001', 'PATIENT', '37', '63', 'Vatterott, Jerrie CLARENCE'], ['1001', 'IDNUM', '74', '82', '88Y20620'], ['1001', 'IDNUM', '83', '91', '88Y20620'], ['1001', 'STREET', '92', '98', 'Exeter'], ['1001', 'CITY', '99', '112', 'DECEPTION BAY'], ['1001', 'STATE', '114', '132', 'Northern Territory'], ['1001', 'ZIP', '134', '138', '6845'], ['1001', 'DATE', '170', '180', '15/11/2004', '2004-11-15'], ['1001', 'DATE', '200', '209', '20/5/2064', '2064-05-20'], ['1001', 'DEPARTMENT', '226', '234', 'PARKES 8'], ['1001', 'HOSPITAL', '237', '263', 'GUNNEDAH DISTRICT HOSPITAL'], ['1001', 'DOCTOR', '267', '288', 'Edison Clay GOLDHIRSH'], ['1001', 'DATE', '400', '404', '2059', '2059'], ['1001', 'DATE', '1193', '1197', '2059', '2059'], ['1001', 'DOCTOR', '1212', '1215', 'Sek'], ['1001', 'DOCTOR', '1243', '1253', 'X Standrew'], ['1001', 'TIME', '1257', '1274', '9:30am on 18/3/14', '2014-03-18T09:30'], ['1001', 'DOCTOR', '1802', '1804', 'KH'], ['1001', 'DATE', '1808', '1815', '21/5/64', '2064-05-21'], ['1001', 'DOCTOR', '1846', '1853', 'X Karma'], ['1001', 'HOSPITAL', '2215', '2235', 'HALLS CREEK HOSPITAL'], ['1001', 'IDNUM', '2444', '2452', '88Y20620'], ['1001', 'DATE', '2476', '2483', '30.5.64', '2064-05-30'], ['1001', 'HOSPITAL', '2505', '2541', 'TRANGIE MULTI PURPOSE HEALTH SERVICE'], ['1001', 'DOCTOR', '2577', '2587', 'X Spittler'], ['1002', 'IDNUM', '14', '24', '46U2273647'], ['1002', 'MEDICALRECORD', '25', '36', '4672273.RKT'], ['1002', 'PATIENT', '38', '54', 'Parmar, Gregorio'], ['1002', 'IDNUM', '65', '73', '46U22736'], ['1002', 'STREET', '74', '83', 'Underdale'], ['1002', 'CITY', '84', '93', 'TRAFALGAR'], ['1002', 'STATE', '95', '97', 'NT'], ['1002', 'ZIP', '99', '103', '3660'], ['1002', 'DATE', '129', '138', '7/12/1999', '1999-12-07'], ['1002', 'TIME', '158', '177', '21/03/2014 at 13:26', '2014-03-21T13:26'], ['1002', 'DEPARTMENT', '189', '210', '3HR STAY SURGICALUNIT'], ['1002', 'HOSPITAL', '211', '264', 'ROBINVALE DISTRICT HEALTH SERVICES - ROBINVALE CAMPUS'], ['1002', 'DOCTOR', '269', '289', 'GENARO ARMAND Forcht'], ['1002', 'DOCTOR', '2108', '2119', 'L. Lazewski'], ['1002', 'DATE', '2930', '2937', '27/5/64', '2064-05-27'], ['1003', 'IDNUM', '13', '23', '94Q248422C'], ['1003', 'MEDICALRECORD', '24', '35', '9462484.GGC'], ['1003', 'PATIENT', '37', '56', 'Pullon, Loren DUANE'], ['1003', 'IDNUM', '67', '75', '94Q24842'], ['1003', 'STREET', '76', '84', 'Bellanca'], ['1003', 'CITY', '85', '93', 'COOKTOWN'], ['1003', 'STATE', '95', '98', 'VIC'], ['1003', 'ZIP', '100', '104', '2739'], ['1003', 'DATE', '130', '139', '29/9/2000', '2000-09-29'], ['1003', 'TIME', '159', '178', '18/03/2014 at 19:04', '2014-03-18T19:04'], ['1003', 'DEPARTMENT', '190', '200', '2.PARKES 8'], ['1003', 'HOSPITAL', '201', '239', 'TULLAMORE MULTI PURPOSE HEALTH SERVICE'], ['1003', 'DOCTOR', '244', '267', 'FELIPE Eldridge ALLCORN'], ['1003', 'IDNUM', '516', '532', '94-QH-48-4220673'], ['1003', 'HOSPITAL', '533', '550', 'BARALABA HOSPITAL'], ['1003', 'DATE', '552', '561', '2/10/2062', '2062-02-10'], ['1003', 'IDNUM', '605', '615', '94624-84GG'], ['1003', 'DATE', '617', '626', '16/1/2062', '2062-01-16'], ['1003', 'DATE', '3527', '3534', '23/5/64', '2064-05-23'], ['1003', 'DOCTOR', '3536', '3545', 'Z Varajas']]\n",
      "[['1001', 'IDNUM', '13', '23', '88Y206206L'], ['1001', 'IDNUM', '24', '35', '8892062.BPL'], ['1001', 'PATIENT', '37', '63', 'Vatterott, Jerrie CLARENCE'], ['1001', 'IDNUM', '74', '82', '88Y20620'], ['1001', 'IDNUM', '91', '99', '88Y20620'], ['1001', 'CITY', '92', '98', 'Exeter'], ['1001', 'CITY', '99', '112', 'DECEPTION BAY'], ['1001', 'STATE', '127', '145', 'Northern Territory'], ['1001', 'ZIP', '180', '184', '6845'], ['1001', 'DATE', '170', '180', '15/11/2004', '2004-11-15'], ['1001', 'DATE', '200', '209', '20/5/2064', '2064-05-20'], ['1001', 'HOSPITAL', '237', '263', 'GUNNEDAH DISTRICT HOSPITAL'], ['1001', 'DOCTOR', '267', '288', 'Edison Clay GOLDHIRSH'], ['1001', 'ORGANIZATION', '318', '337', 'NSW-CANCER-REGISTRY'], ['1001', 'DATE', '400', '404', '2059', 'AGE'], ['1001', 'PATIENT', '537', '539', 'PR'], ['1001', 'PATIENT', '543', '545', 'ER'], ['1001', 'PATIENT', '556', '560', 'HER2'], ['1001', 'ORGANIZATION', '570', '624', 's content can not be identified as any of PHI category'], ['1001', 'TIME', '844', '876', 'one TS through solid yellow area', 'Yellow;TIME:2 - one TS through cystic areaNull'], ['1001', 'DOCTOR', '970', '972', 'ER'], ['1001', 'DOCTOR', '1032', '1034', 'PR'], ['1001', 'DOCTOR', '1098', '1102', 'HER2'], ['1001', 'DOCTOR', '1172', '1177', 'Ki-67'], ['1001', 'DEPARTMENT', '1049', '1070', 'FROZEN SECTION REPORT'], ['1001', 'DOCTOR', '1212', '1215', 'Sek'], ['1001', 'DOCTOR', '1259', '1269', 'X Standrew'], ['1001', 'TIME', '1327', '1344', '9:30am on 18/3/14', '2014-03-18T09:30'], ['1001', 'AGE', '1785', '1786', '3'], ['1001', 'HOSPITAL', '1802', '1804', 'KH'], ['1001', 'DATE', '1815', '1822', '21/5/64', '2064-05-21'], ['1001', 'DOCTOR', '1846', '1853', 'X Karma'], ['1001', 'HOSPITAL', '2215', '2235', 'HALLS CREEK HOSPITAL'], ['1001', 'MEDICALRECORD', '2444', '2452', '88Y20620'], ['1001', 'DATE', '2476', '2483', '30.5.64', '2064-05-30'], ['1001', 'HOSPITAL', '2505', '2541', 'TRANGIE MULTI PURPOSE HEALTH SERVICE'], ['1001', 'DOCTOR', '2633', '2643', 'X Spittler'], ['1001', 'ORGANIZATION', '2819', '2824', 'Roche'], ['1001', 'ORGANIZATION', '3005', '3009', 'ASCO'], ['1001', 'ORGANIZATION', '3032', '3035', 'CAP'], ['1002', 'IDNUM', '14', '24', '46U2273647'], ['1002', 'MEDICALRECORD', '25', '36', '4672273.RKT'], ['1002', 'PATIENT', '38', '54', 'Parmar, Gregorio'], ['1002', 'IDNUM', '65', '73', '46U22736'], ['1002', 'STREET', '74', '83', 'Underdale'], ['1002', 'CITY', '84', '93', 'TRAFALGAR'], ['1002', 'STATE', '104', '106', 'NT'], ['1002', 'ZIP', '121', '125', '3660'], ['1002', 'DATE', '129', '138', '7/12/1999', '1999-07-12'], ['1002', 'DATE', '158', '168', '21/03/2014', '2014-03-21QuietTime:13:2613:26'], ['1002', 'DEPARTMENT', '189', '210', '3HR STAY SURGICALUNIT'], ['1002', 'HOSPITAL', '243', '296', 'ROBINVALE DISTRICT HEALTH SERVICES - ROBINVALE CAMPUS'], ['1002', 'PATIENT', '265', '289', 'PRO GENARO ARMAND Forcht'], ['1002', 'ORGANIZATION', '306', '315', 'FILE-COPY'], ['1002', 'ORGANIZATION', '420', '424', 'Grey'], ['1002', 'ORGANIZATION', '588', '688', 'Thes DOCTOR:erosal surface is dull with areas of adherent omentum and brown grey fibrinous material.'], ['1002', 'DOCTOR', '1129', '1162', 'On opening the bowel wall is 3mm.'], ['1002', 'DATE', '1162', '1204', 'Otherwise the bowel mucosa is unremarkable', 'Null'], ['1002', 'PATIENT', '1930', '1934', 'M-15'], ['1002', 'PATIENT', '1940', '1961', 'PAR-AORTIC LYMPH NODE'], ['1002', 'PATIENT', '2077', '2079', 'AE'], ['1002', 'IDNUM', '2083', '2093', 'M-2/JL/ank'], ['1002', 'DOCTOR', '2108', '2119', 'L. Lazewski'], ['1002', 'PATIENT', '2757', '2763', '#NAME?'], ['1003', 'IDNUM', '13', '23', '94Q248422C'], ['1003', 'MEDICALRECORD', '24', '35', '9462484.GGC'], ['1003', 'PATIENT', '37', '56', 'Pullon, Loren DUANE'], ['1003', 'IDNUM', '67', '75', '94Q24842'], ['1003', 'PATIENT', '76', '84', 'Bellanca'], ['1003', 'CITY', '85', '93', 'COOKTOWN'], ['1003', 'STATE', '103', '106', 'VIC'], ['1003', 'ZIP', '121', '125', '2739'], ['1003', 'DATE', '130', '139', '29/9/2000', '2000-09-29'], ['1003', 'DATE', '159', '169', '18/03/2014', '2014-03-18'], ['1003', 'CITY', '190', '198', '2.PARKES'], ['1003', 'HOSPITAL', '218', '258', '8-TULLAMORE MULTI PURPOSE HEALTH SERVICE'], ['1003', 'PATIENT', '244', '267', 'FELIPE Eldridge ALLCORN'], ['1003', 'ORGANIZATION', '297', '316', 'NSW-CANCER-REGISTRY'], ['1003', 'MEDICALRECORD', '328', '345', 'PMP - appendiceal'], ['1003', 'MEDICALRECORD', '370', '390', 'Peritonectomy PCI-19'], ['1003', 'STREET', '392', '399', 'Omentum']]\n"
     ]
    }
   ],
   "source": [
    "true_labels = []\n",
    "predicted_labels = []\n",
    "\n",
    "true_labels_file = 'answer.txt'\n",
    "predicted_labels_file = 'predict.out'\n",
    "\n",
    "with open(true_labels_file, 'r') as f:\n",
    "    for line in f:\n",
    "        label = line.strip().split('\\t')\n",
    "        if int(label[0]) > 1003:\n",
    "            break\n",
    "        true_labels.append(label)\n",
    "\n",
    "with open(predicted_labels_file, 'r') as f:\n",
    "    for line in f:\n",
    "        label = line.strip().split('\\t')\n",
    "        predicted_labels.append(label)\n",
    "\n",
    "print(true_labels)\n",
    "print(predicted_labels)"
   ]
  },
  {
   "cell_type": "markdown",
   "metadata": {},
   "source": [
    "## Method 1: Calculate via equation"
   ]
  },
  {
   "cell_type": "markdown",
   "metadata": {},
   "source": [
    "### Precision, Recall, F1"
   ]
  },
  {
   "cell_type": "code",
   "execution_count": 453,
   "metadata": {},
   "outputs": [],
   "source": [
    "def calculate_f1(true, predicted):\n",
    "    true_positives = 0\n",
    "    false_positives = 0\n",
    "    false_negatives = 0\n",
    "\n",
    "    # If exactly same, TP+1. If no, FP+1\n",
    "    for predicted_label in predicted:\n",
    "        if predicted_label in true:\n",
    "            true_positives += 1\n",
    "            true.remove(predicted_label)\n",
    "        else:\n",
    "            false_positives += 1\n",
    "\n",
    "    # No match, FN+1\n",
    "    false_negatives = len(true)\n",
    "\n",
    "    # Precision, Recall\n",
    "    precision = true_positives / (true_positives + false_positives)\n",
    "    recall = true_positives / (true_positives + false_negatives)\n",
    "\n",
    "    # f1\n",
    "    f1 = 2 * (precision * recall) / (precision + recall)\n",
    "\n",
    "    return f1"
   ]
  },
  {
   "cell_type": "markdown",
   "metadata": {},
   "source": [
    "### Calculate Scores"
   ]
  },
  {
   "cell_type": "code",
   "execution_count": 454,
   "metadata": {},
   "outputs": [
    {
     "name": "stdout",
     "output_type": "stream",
     "text": [
      "Macro F1: 0.3776223776223776\n"
     ]
    }
   ],
   "source": [
    "print(\"Macro F1:\", calculate_f1(true_labels.copy(), predicted_labels.copy()))"
   ]
  },
  {
   "cell_type": "markdown",
   "metadata": {},
   "source": [
    "## Method 2: Sklearn Macro F1 Score"
   ]
  },
  {
   "cell_type": "markdown",
   "metadata": {},
   "source": [
    "### Alignment"
   ]
  },
  {
   "cell_type": "code",
   "execution_count": 455,
   "metadata": {},
   "outputs": [],
   "source": [
    "def aligning_labels(true, predict):\n",
    "    aligned_true = []\n",
    "    aligned_predict = []\n",
    "\n",
    "    true_used = [False] * len(true)\n",
    "    predict_used = [False] * len(predict)\n",
    "\n",
    "    for i, true_entry in enumerate(true):\n",
    "        true_index = true_entry[0]\n",
    "        true_label = true_entry[1]\n",
    "        true_start = true_entry[2]\n",
    "        true_end = true_entry[3]\n",
    "        true_content = true_entry[4]\n",
    "\n",
    "        isMatched = False\n",
    "\n",
    "        for j, predict_entry in enumerate(predict):\n",
    "            predict_index = predict_entry[0]\n",
    "            predict_label = predict_entry[1]\n",
    "            predict_start = predict_entry[2]\n",
    "            predict_end = predict_entry[3]\n",
    "            predict_content = predict_entry[4]\n",
    "\n",
    "            # Same file no.\n",
    "            if true_index == predict_index:\n",
    "                match_count = sum(\n",
    "                    [true_start == predict_start, true_end == predict_end, true_content == predict_content, true_label == predict_label]\n",
    "                )\n",
    "                \n",
    "                # if >2 element matched\n",
    "                if match_count >= 2 and not true_used[i] and not predict_used[j]:\n",
    "                    aligned_true.append(true_entry)\n",
    "                    aligned_predict.append(predict_entry)\n",
    "                    true_used[i] = True\n",
    "                    predict_used[j] = True\n",
    "                    isMatched = True\n",
    "                    break\n",
    "\n",
    "        # if no match, padding with None\n",
    "        if isMatched == False:\n",
    "            aligned_true.append(true_entry)\n",
    "            aligned_predict.append(\"None\")\n",
    "            true_used[i] = True\n",
    "                \n",
    "    return aligned_true, aligned_predict,  predict_used"
   ]
  },
  {
   "cell_type": "markdown",
   "metadata": {},
   "source": [
    "## Calculate Marcro F1"
   ]
  },
  {
   "cell_type": "code",
   "execution_count": 458,
   "metadata": {},
   "outputs": [
    {
     "name": "stdout",
     "output_type": "stream",
     "text": [
      "1 ['1001', 'IDNUM', '13', '23', '88Y206206L'] \t ['1001', 'IDNUM', '13', '23', '88Y206206L']\n",
      "2 ['1001', 'MEDICALRECORD', '24', '35', '8892062.BPL'] \t ['1001', 'IDNUM', '24', '35', '8892062.BPL']\n",
      "3 ['1001', 'PATIENT', '37', '63', 'Vatterott, Jerrie CLARENCE'] \t ['1001', 'PATIENT', '37', '63', 'Vatterott, Jerrie CLARENCE']\n",
      "4 ['1001', 'IDNUM', '74', '82', '88Y20620'] \t ['1001', 'IDNUM', '74', '82', '88Y20620']\n",
      "5 ['1001', 'IDNUM', '83', '91', '88Y20620'] \t ['1001', 'IDNUM', '91', '99', '88Y20620']\n",
      "6 ['1001', 'STREET', '92', '98', 'Exeter'] \t ['1001', 'CITY', '92', '98', 'Exeter']\n",
      "7 ['1001', 'CITY', '99', '112', 'DECEPTION BAY'] \t ['1001', 'CITY', '99', '112', 'DECEPTION BAY']\n",
      "8 ['1001', 'STATE', '114', '132', 'Northern Territory'] \t ['1001', 'STATE', '127', '145', 'Northern Territory']\n",
      "9 ['1001', 'ZIP', '134', '138', '6845'] \t ['1001', 'ZIP', '180', '184', '6845']\n",
      "10 ['1001', 'DATE', '170', '180', '15/11/2004', '2004-11-15'] \t ['1001', 'DATE', '170', '180', '15/11/2004', '2004-11-15']\n",
      "11 ['1001', 'DATE', '200', '209', '20/5/2064', '2064-05-20'] \t ['1001', 'DATE', '200', '209', '20/5/2064', '2064-05-20']\n",
      "12 ['1001', 'DEPARTMENT', '226', '234', 'PARKES 8'] \t None\n",
      "13 ['1001', 'HOSPITAL', '237', '263', 'GUNNEDAH DISTRICT HOSPITAL'] \t ['1001', 'HOSPITAL', '237', '263', 'GUNNEDAH DISTRICT HOSPITAL']\n",
      "14 ['1001', 'DOCTOR', '267', '288', 'Edison Clay GOLDHIRSH'] \t ['1001', 'DOCTOR', '267', '288', 'Edison Clay GOLDHIRSH']\n",
      "15 ['1001', 'DATE', '400', '404', '2059', '2059'] \t ['1001', 'DATE', '400', '404', '2059', 'AGE']\n",
      "16 ['1001', 'DATE', '1193', '1197', '2059', '2059'] \t None\n",
      "17 ['1001', 'DOCTOR', '1212', '1215', 'Sek'] \t ['1001', 'DOCTOR', '1212', '1215', 'Sek']\n",
      "18 ['1001', 'DOCTOR', '1243', '1253', 'X Standrew'] \t ['1001', 'DOCTOR', '1259', '1269', 'X Standrew']\n",
      "19 ['1001', 'TIME', '1257', '1274', '9:30am on 18/3/14', '2014-03-18T09:30'] \t ['1001', 'TIME', '1327', '1344', '9:30am on 18/3/14', '2014-03-18T09:30']\n",
      "20 ['1001', 'DOCTOR', '1802', '1804', 'KH'] \t ['1001', 'HOSPITAL', '1802', '1804', 'KH']\n",
      "21 ['1001', 'DATE', '1808', '1815', '21/5/64', '2064-05-21'] \t ['1001', 'DATE', '1815', '1822', '21/5/64', '2064-05-21']\n",
      "22 ['1001', 'DOCTOR', '1846', '1853', 'X Karma'] \t ['1001', 'DOCTOR', '1846', '1853', 'X Karma']\n",
      "23 ['1001', 'HOSPITAL', '2215', '2235', 'HALLS CREEK HOSPITAL'] \t ['1001', 'HOSPITAL', '2215', '2235', 'HALLS CREEK HOSPITAL']\n",
      "24 ['1001', 'IDNUM', '2444', '2452', '88Y20620'] \t ['1001', 'MEDICALRECORD', '2444', '2452', '88Y20620']\n",
      "25 ['1001', 'DATE', '2476', '2483', '30.5.64', '2064-05-30'] \t ['1001', 'DATE', '2476', '2483', '30.5.64', '2064-05-30']\n",
      "26 ['1001', 'HOSPITAL', '2505', '2541', 'TRANGIE MULTI PURPOSE HEALTH SERVICE'] \t ['1001', 'HOSPITAL', '2505', '2541', 'TRANGIE MULTI PURPOSE HEALTH SERVICE']\n",
      "27 ['1001', 'DOCTOR', '2577', '2587', 'X Spittler'] \t ['1001', 'DOCTOR', '2633', '2643', 'X Spittler']\n",
      "28 ['1002', 'IDNUM', '14', '24', '46U2273647'] \t ['1002', 'IDNUM', '14', '24', '46U2273647']\n",
      "29 ['1002', 'MEDICALRECORD', '25', '36', '4672273.RKT'] \t ['1002', 'MEDICALRECORD', '25', '36', '4672273.RKT']\n",
      "30 ['1002', 'PATIENT', '38', '54', 'Parmar, Gregorio'] \t ['1002', 'PATIENT', '38', '54', 'Parmar, Gregorio']\n",
      "31 ['1002', 'IDNUM', '65', '73', '46U22736'] \t ['1002', 'IDNUM', '65', '73', '46U22736']\n",
      "32 ['1002', 'STREET', '74', '83', 'Underdale'] \t ['1002', 'STREET', '74', '83', 'Underdale']\n",
      "33 ['1002', 'CITY', '84', '93', 'TRAFALGAR'] \t ['1002', 'CITY', '84', '93', 'TRAFALGAR']\n",
      "34 ['1002', 'STATE', '95', '97', 'NT'] \t ['1002', 'STATE', '104', '106', 'NT']\n",
      "35 ['1002', 'ZIP', '99', '103', '3660'] \t ['1002', 'ZIP', '121', '125', '3660']\n",
      "36 ['1002', 'DATE', '129', '138', '7/12/1999', '1999-12-07'] \t ['1002', 'DATE', '129', '138', '7/12/1999', '1999-07-12']\n",
      "37 ['1002', 'TIME', '158', '177', '21/03/2014 at 13:26', '2014-03-21T13:26'] \t None\n",
      "38 ['1002', 'DEPARTMENT', '189', '210', '3HR STAY SURGICALUNIT'] \t ['1002', 'DEPARTMENT', '189', '210', '3HR STAY SURGICALUNIT']\n",
      "39 ['1002', 'HOSPITAL', '211', '264', 'ROBINVALE DISTRICT HEALTH SERVICES - ROBINVALE CAMPUS'] \t ['1002', 'HOSPITAL', '243', '296', 'ROBINVALE DISTRICT HEALTH SERVICES - ROBINVALE CAMPUS']\n",
      "40 ['1002', 'DOCTOR', '269', '289', 'GENARO ARMAND Forcht'] \t None\n",
      "41 ['1002', 'DOCTOR', '2108', '2119', 'L. Lazewski'] \t ['1002', 'DOCTOR', '2108', '2119', 'L. Lazewski']\n",
      "42 ['1002', 'DATE', '2930', '2937', '27/5/64', '2064-05-27'] \t None\n",
      "43 ['1003', 'IDNUM', '13', '23', '94Q248422C'] \t ['1003', 'IDNUM', '13', '23', '94Q248422C']\n",
      "44 ['1003', 'MEDICALRECORD', '24', '35', '9462484.GGC'] \t ['1003', 'MEDICALRECORD', '24', '35', '9462484.GGC']\n",
      "45 ['1003', 'PATIENT', '37', '56', 'Pullon, Loren DUANE'] \t ['1003', 'PATIENT', '37', '56', 'Pullon, Loren DUANE']\n",
      "46 ['1003', 'IDNUM', '67', '75', '94Q24842'] \t ['1003', 'IDNUM', '67', '75', '94Q24842']\n",
      "47 ['1003', 'STREET', '76', '84', 'Bellanca'] \t ['1003', 'PATIENT', '76', '84', 'Bellanca']\n",
      "48 ['1003', 'CITY', '85', '93', 'COOKTOWN'] \t ['1003', 'CITY', '85', '93', 'COOKTOWN']\n",
      "49 ['1003', 'STATE', '95', '98', 'VIC'] \t ['1003', 'STATE', '103', '106', 'VIC']\n",
      "50 ['1003', 'ZIP', '100', '104', '2739'] \t ['1003', 'ZIP', '121', '125', '2739']\n",
      "51 ['1003', 'DATE', '130', '139', '29/9/2000', '2000-09-29'] \t ['1003', 'DATE', '130', '139', '29/9/2000', '2000-09-29']\n",
      "52 ['1003', 'TIME', '159', '178', '18/03/2014 at 19:04', '2014-03-18T19:04'] \t None\n",
      "53 ['1003', 'DEPARTMENT', '190', '200', '2.PARKES 8'] \t None\n",
      "54 ['1003', 'HOSPITAL', '201', '239', 'TULLAMORE MULTI PURPOSE HEALTH SERVICE'] \t None\n",
      "55 ['1003', 'DOCTOR', '244', '267', 'FELIPE Eldridge ALLCORN'] \t ['1003', 'PATIENT', '244', '267', 'FELIPE Eldridge ALLCORN']\n",
      "56 ['1003', 'IDNUM', '516', '532', '94-QH-48-4220673'] \t None\n",
      "57 ['1003', 'HOSPITAL', '533', '550', 'BARALABA HOSPITAL'] \t None\n",
      "58 ['1003', 'DATE', '552', '561', '2/10/2062', '2062-02-10'] \t None\n",
      "59 ['1003', 'IDNUM', '605', '615', '94624-84GG'] \t None\n",
      "60 ['1003', 'DATE', '617', '626', '16/1/2062', '2062-01-16'] \t None\n",
      "61 ['1003', 'DATE', '3527', '3534', '23/5/64', '2064-05-23'] \t None\n",
      "62 ['1003', 'DOCTOR', '3536', '3545', 'Z Varajas'] \t None\n",
      "Useless Prediction Count:  34\n",
      "marcro f1:  0.6742847795479374\n"
     ]
    }
   ],
   "source": [
    "from sklearn.metrics import f1_score\n",
    "\n",
    "aligned_true, aligned_predict, predict_used = aligning_labels(true_labels.copy(), predicted_labels.copy())\n",
    "\n",
    "# print aligned result\n",
    "for i in range(len(aligned_true)):\n",
    "    print(i+1, aligned_true[i], '\\t',aligned_predict[i])\n",
    "\n",
    "# useless prediction count\n",
    "print(\"Useless Prediction Count: \",predict_used.count(False))\n",
    "\n",
    "# Get labels for F1\n",
    "aligned_true_labels = [entry[1] for entry in aligned_true]\n",
    "aligned_predicted_labels = [entry[1] if entry != \"None\" else \"None\" for entry in aligned_predict]\n",
    "f1 = f1_score(aligned_true_labels, aligned_predicted_labels, average='macro')\n",
    "\n",
    "#for i, j in zip(aligned_true_labels, aligned_predicted_labels):\n",
    "    #print(i,j)\n",
    "\n",
    "print(\"marcro f1: \", f1)"
   ]
  }
 ],
 "metadata": {
  "kernelspec": {
   "display_name": "Python 3",
   "language": "python",
   "name": "python3"
  },
  "language_info": {
   "codemirror_mode": {
    "name": "ipython",
    "version": 3
   },
   "file_extension": ".py",
   "mimetype": "text/x-python",
   "name": "python",
   "nbconvert_exporter": "python",
   "pygments_lexer": "ipython3",
   "version": "3.9.6"
  }
 },
 "nbformat": 4,
 "nbformat_minor": 2
}
