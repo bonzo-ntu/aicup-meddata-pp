{
 "cells": [
  {
   "cell_type": "markdown",
   "metadata": {},
   "source": [
    "## Read Label Files"
   ]
  },
  {
   "cell_type": "code",
   "execution_count": 41,
   "metadata": {},
   "outputs": [
    {
     "name": "stdout",
     "output_type": "stream",
     "text": [
      "[['1001', 'IDNUM', '13', '23', '88Y206206L'], ['1001', 'MEDICALRECORD', '24', '35', '8892062.BPL'], ['1001', 'PATIENT', '37', '63', 'Vatterott, Jerrie CLARENCE'], ['1001', 'IDNUM', '74', '82', '88Y20620'], ['1001', 'IDNUM', '83', '91', '88Y20620'], ['1001', 'STREET', '92', '98', 'Exeter'], ['1001', 'CITY', '99', '112', 'DECEPTION BAY'], ['1001', 'STATE', '114', '132', 'Northern Territory'], ['1001', 'ZIP', '134', '138', '6845'], ['1001', 'DATE', '170', '180', '15/11/2004', '2004-11-15'], ['1001', 'DATE', '200', '209', '20/5/2064', '2064-05-20'], ['1001', 'DEPARTMENT', '226', '234', 'PARKES 8'], ['1001', 'HOSPITAL', '237', '263', 'GUNNEDAH DISTRICT HOSPITAL'], ['1001', 'DOCTOR', '267', '288', 'Edison Clay GOLDHIRSH'], ['1001', 'DATE', '400', '404', '2059', '2059'], ['1001', 'DATE', '1193', '1197', '2059', '2059'], ['1001', 'DOCTOR', '1212', '1215', 'Sek'], ['1001', 'DOCTOR', '1243', '1253', 'X Standrew'], ['1001', 'TIME', '1257', '1274', '9:30am on 18/3/14', '2014-03-18T09:30'], ['1001', 'DOCTOR', '1802', '1804', 'KH'], ['1001', 'DATE', '1808', '1815', '21/5/64', '2064-05-21'], ['1001', 'DOCTOR', '1846', '1853', 'X Karma'], ['1001', 'HOSPITAL', '2215', '2235', 'HALLS CREEK HOSPITAL'], ['1001', 'IDNUM', '2444', '2452', '88Y20620'], ['1001', 'DATE', '2476', '2483', '30.5.64', '2064-05-30'], ['1001', 'HOSPITAL', '2505', '2541', 'TRANGIE MULTI PURPOSE HEALTH SERVICE'], ['1001', 'DOCTOR', '2577', '2587', 'X Spittler'], ['1002', 'IDNUM', '14', '24', '46U2273647'], ['1002', 'MEDICALRECORD', '25', '36', '4672273.RKT'], ['1002', 'PATIENT', '38', '54', 'Parmar, Gregorio'], ['1002', 'IDNUM', '65', '73', '46U22736'], ['1002', 'STREET', '74', '83', 'Underdale'], ['1002', 'CITY', '84', '93', 'TRAFALGAR'], ['1002', 'STATE', '95', '97', 'NT'], ['1002', 'ZIP', '99', '103', '3660'], ['1002', 'DATE', '129', '138', '7/12/1999', '1999-12-07'], ['1002', 'TIME', '158', '177', '21/03/2014 at 13:26', '2014-03-21T13:26'], ['1002', 'DEPARTMENT', '189', '210', '3HR STAY SURGICALUNIT'], ['1002', 'HOSPITAL', '211', '264', 'ROBINVALE DISTRICT HEALTH SERVICES - ROBINVALE CAMPUS'], ['1002', 'DOCTOR', '269', '289', 'GENARO ARMAND Forcht'], ['1002', 'DOCTOR', '2108', '2119', 'L. Lazewski'], ['1002', 'DATE', '2930', '2937', '27/5/64', '2064-05-27'], ['1003', 'IDNUM', '13', '23', '94Q248422C'], ['1003', 'MEDICALRECORD', '24', '35', '9462484.GGC'], ['1003', 'PATIENT', '37', '56', 'Pullon, Loren DUANE'], ['1003', 'IDNUM', '67', '75', '94Q24842'], ['1003', 'STREET', '76', '84', 'Bellanca'], ['1003', 'CITY', '85', '93', 'COOKTOWN'], ['1003', 'STATE', '95', '98', 'VIC'], ['1003', 'ZIP', '100', '104', '2739'], ['1003', 'DATE', '130', '139', '29/9/2000', '2000-09-29'], ['1003', 'TIME', '159', '178', '18/03/2014 at 19:04', '2014-03-18T19:04'], ['1003', 'DEPARTMENT', '190', '200', '2.PARKES 8'], ['1003', 'HOSPITAL', '201', '239', 'TULLAMORE MULTI PURPOSE HEALTH SERVICE'], ['1003', 'DOCTOR', '244', '267', 'FELIPE Eldridge ALLCORN'], ['1003', 'IDNUM', '516', '532', '94-QH-48-4220673'], ['1003', 'HOSPITAL', '533', '550', 'BARALABA HOSPITAL'], ['1003', 'DATE', '552', '561', '2/10/2062', '2062-02-10'], ['1003', 'IDNUM', '605', '615', '94624-84GG'], ['1003', 'DATE', '617', '626', '16/1/2062', '2062-01-16'], ['1003', 'DATE', '3527', '3534', '23/5/64', '2064-05-23'], ['1003', 'DOCTOR', '3536', '3545', 'Z Varajas']]\n",
      "[['1001', 'IDNUM', '13', '23', '88Y206206L'], ['1001', 'MEDICALRECORD', '24', '35', '8892062.BPL'], ['1001', 'PATIENT', '37', '63', 'Vatterott, Jerrie CLARENCE'], ['1001', 'IDNUM', '74', '82', '88Y20620'], ['1001', 'IDNUM', '91', '99', '88Y20620'], ['1001', 'STREET', '92', '98', 'Exeter'], ['1001', 'CITY', '99', '112', 'DECEPTION BAY'], ['1001', 'STATE', '127', '145', 'Northern Territory'], ['1001', 'ZIP', '180', '184', '6845'], ['1001', 'SET', '149', '161', 'Fluid,Tissue'], ['1001', 'DATE', '170', '180', '15/11/2004', '2004-11-15'], ['1001', 'DATE', '200', '209', '20/5/2064', '2064-05-20'], ['1001', 'DEPARTMENT', '226', '234', 'PARKES 8'], ['1001', 'HOSPITAL', '256', '282', 'GUNNEDAH DISTRICT HOSPITAL'], ['1001', 'DOCTOR', '267', '288', 'Edison Clay GOLDHIRSH'], ['1001', 'ORGANIZATION', '305', '314', 'FILE-COPY'], ['1001', 'DEPARTMENT', '343', '362', 'NSW-CANCER-REGISTRY'], ['1001', 'DEPARTMENT', '338', '346', 'CLINICAL'], ['1001', 'DATE', '400', '404', '2059', '2059'], ['1001', 'DURATION', '436', '438', '33', '33'], ['1001', 'IDNUM', '433', '434', '1'], ['1001', 'DATE', '447', '453', 'recent', '2064-05-30'], ['1001', 'SET', '452', '457', 'Right'], ['1001', 'SET', '489', '496', '30.5.64', '2064-05-30'], ['1001', 'ORGANIZATION', '493', '529', 'TRANGIE MULTI PURPOSE HEALTH SERVICE'], ['1001', 'DATE', '514', '520', 'recent', '2064-05-30'], ['1001', 'SET', '536', '538', 'at'], ['1001', 'SET', '566', '572', 'recent', '2064-05-30'], ['1001', 'DATE', '678', '680', 'at', 'Null'], ['1001', 'SET', '840', '841', '1'], ['1001', 'SET', '888', '889', '2'], ['1001', 'SET', '946', '951', '3 & 4', 'ER,PR, HER2, Ki-67'], ['1001', 'SET', '1050', '1051', '5', 'fallopian tube'], ['1001', 'SET', '1048', '1068', 'at 9:30am on 18/3/14', '2014-03-18T09:30'], ['1001', 'DATE', '1141', '1143', 'pt', '2059'], ['1001', 'DOCTOR', '1212', '1215', 'Sek'], ['1001', 'DOCTOR', '1252', '1269', 'A/Prof X Standrew'], ['1001', 'TIME', '1327', '1344', '9:30am on 18/3/14', '2014-03-18T09:30'], ['1001', 'SET', '1419', '1429', 'up to 12mm', 'P12'], ['1001', 'SET', '1551', '1552', '1'], ['1001', 'SET', '1564', '1565', '2'], ['1001', 'SET', '1785', '1786', '3'], ['1001', 'DOCTOR', '1802', '1804', 'KH'], ['1001', 'DATE', '1815', '1822', '21/5/64', '2064-05-21'], ['1001', 'DOCTOR', '1846', '1853', 'X Karma'], ['1001', 'SET', '2169', '2170', '2', 'ER'], ['1001', 'SET', '2236', '2237', '2', 'PR'], ['1001', 'HOSPITAL', '2215', '2235', 'HALLS CREEK HOSPITAL'], ['1001', 'IDNUM', '2444', '2452', '88Y20620'], ['1001', 'DATE', '2476', '2483', '30.5.64', '2064-05-30'], ['1001', 'HOSPITAL', '2505', '2541', 'TRANGIE MULTI PURPOSE HEALTH SERVICE'], ['1001', 'DOCTOR', '2633', '2643', 'X Spittler'], ['1001', 'HOSPITAL', '2622', '2625', 'POW'], ['1001', 'ORGANIZATION', '2819', '2824', 'Roche'], ['1001', 'SET', '2860', '2873', 'non-amplified', 'R'], ['1001', 'SET', '2920', '2928', 'polysomy', 'R'], ['1001', 'SET', '2887', '2891', 'Mean', '4.9'], ['1001', 'SET', '2924', '2928', 'Mean', '3.4'], ['1001', 'SET', '2982', '2986', '1.44'], ['1001', 'ORGANIZATION', '3005', '3009', 'ASCO'], ['1001', 'ORGANIZATION', '3032', '3035', 'CAP'], ['1001', 'SET', '3054', '3058', '<1.8'], ['1001', 'SET', '3085', '3092', '1.8-2.2', 'RANGE'], ['1001', 'SET', '3116', '3120', '>2.2'], ['1002', 'IDNUM', '14', '24', '46U2273647'], ['1002', 'MEDICALRECORD', '25', '36', '4672273.RKT'], ['1002', 'PATIENT', '38', '54', 'Parmar, Gregorio'], ['1002', 'IDNUM', '65', '73', '46U22736'], ['1002', 'STREET', '74', '83', 'Underdale'], ['1002', 'CITY', '84', '93', 'TRAFALGAR'], ['1002', 'STATE', '104', '106', 'NT'], ['1002', 'ZIP', '121', '125', '3660'], ['1002', 'LOCATION-OTHER', '104', '112', 'Specimen'], ['1002', 'DATE', '129', '138', '7/12/1999', '1999-12-07'], ['1002', 'AGE', '138', '151', '27=>M aged 27'], ['1002', 'TIME', '158', '177', '21/03/2014 at 13:26', '2014-03-21T13:26'], ['1002', 'DEPARTMENT', '189', '210', '3HR STAY SURGICALUNIT'], ['1002', 'HOSPITAL', '243', '296', 'ROBINVALE DISTRICT HEALTH SERVICES - ROBINVALE CAMPUS'], ['1002', 'DOCTOR', '269', '289', 'GENARO ARMAND Forcht'], ['1002', 'DATE', '289', '296', '27/5/64', '2064-05-27'], ['1002', 'DATE', '377', '384', '27/5/64', '2064-05-27'], ['1002', 'DEPARTMENT', '382', '416', 'PERITONEAL DISEASE AND SMALL BOWEL'], ['1002', 'DURATION', '421', '424', 'Two', 'P2D'], ['1002', 'DURATION', '541', '546', '410mm', 'P410'], ['1002', 'DURATION', '602', '609', '35x35mm', 'P35x35'], ['1002', 'DURATION', '705', '708', '4mm', 'P4M'], ['1002', 'DATE', '709', '716', '27/5/64', '2064-05-27'], ['1002', 'SET', '798', '804', 'longer', 'R846'], ['1002', 'DATE', '815', '822', '27/5/64', '2064-05-27'], ['1002', 'DURATION', '906', '912', 'second', 'PT1.327S'], ['1002', 'SET', '1052', '1060', 'mesocolo'], ['1002', 'DURATION', '1158', '1161', '3mm', 'P3M'], ['1002', 'DURATION', '1246', '1255', 'otherwise', 'PT2H'], ['1002', 'DATE', '1435', '1453', 'smaller&gt;27/5/64'], ['1002', 'SET', '1503', '1506', '1-8'], ['1002', 'SET', '1507', '1508', '1'], ['1002', 'SET', '1540', '1541', '2'], ['1002', 'SET', '1593', '1594', '3'], ['1002', 'SET', '1648', '1649', '4'], ['1002', 'SET', '1734', '1735', '5'], ['1002', 'SET', '1868', '1869', '6'], ['1002', 'SET', '1868', '1869', '7'], ['1002', 'SET', '1872', '1873', '8'], ['1002', 'SET', '2071', '2075', '9-13'], ['1002', 'SET', '2273', '2274', '9'], ['1002', 'SET', '2505', '2507', '10'], ['1002', 'SET', '2759', '2761', '11'], ['1002', 'SET', '3032', '3034', '12'], ['1002', 'SET', '3234', '3236', '13'], ['1002', 'SET', '3566', '3571', '14&15'], ['1002', 'DOCTOR', '1926', '1928', 'RS'], ['1002', 'DOCTOR', '1932', '1936', 'M-15'], ['1002', 'DATE', '1935', '1942', '27/5/64', '2064-05-27'], ['1002', 'DURATION', '1988', '1992', '20mm', 'P20mm'], ['1002', 'SET', '2064', '2067', 'two', 'R2'], ['1002', 'DOCTOR', '2077', '2079', 'AE'], ['1002', 'DOCTOR', '2083', '2086', 'M-2'], ['1002', 'DOCTOR', '2094', '2096', 'JL'], ['1002', 'DOCTOR', '2107', '2110', 'ank'], ['1002', 'DOCTOR', '2108', '2119', 'L. Lazewski'], ['1002', 'DATE', '2120', '2127', '27/5/64', '2064-05-27'], ['1002', 'DATE', '2355', '2447', 'One of the segments of colon also shows a tubular adenoma with mild dysplasia in its mucosa.', '27/5/64'], ['1002', 'DATE', '2448', '2503', 'Local lymph nodes recovered from both segments of bowel', '27/5/64'], ['1002', 'DATE', '2606', '2613', '27/5/64', '2064-05-27'], ['1002', 'DATE', '2710', '2717', '27/5/64', '2064-05-27'], ['1002', 'DEPARTMENT', '2724', '2752', 'PERITONEAL DISEASE AND BOWEL'], ['1002', 'PATIENT', '2756', '2775', '27/5/64=>2064-05-27'], ['1002', 'DATE', '2877', '2884', '27/5/64', '2064-05-27'], ['1002', 'DATE', '2930', '2937', '27/5/64', '2064-05-27'], ['1003', 'IDNUM', '13', '23', '94Q248422C'], ['1003', 'MEDICALRECORD', '24', '35', '9462484.GGC'], ['1003', 'PATIENT', '37', '56', 'Pullon, Loren DUANE'], ['1003', 'IDNUM', '67', '75', '94Q24842'], ['1003', 'STREET', '76', '84', 'Bellanca'], ['1003', 'CITY', '85', '93', 'COOKTOWN'], ['1003', 'STATE', '103', '106', 'VIC'], ['1003', 'ZIP', '121', '125', '2739'], ['1003', 'DATE', '121', '128', '23/5/64', '2064-05-23'], ['1003', 'DATE', '136', '145', '29/9/2000', '2000-09-29'], ['1003', 'AGE', '139', '158', '23/5/64=>1964-05-23'], ['1003', 'TIME', '159', '178', '18/03/2014 at 19:04', '2014-03-18T19:04'], ['1003', 'DEPARTMENT', '190', '200', '2.PARKES 8'], ['1003', 'HOSPITAL', '222', '260', 'TULLAMORE MULTI PURPOSE HEALTH SERVICE'], ['1003', 'DOCTOR', '244', '267', 'FELIPE Eldridge ALLCORN'], ['1003', 'ORGANIZATION', '284', '293', 'FILE-COPY'], ['1003', 'DEPARTMENT', '322', '341', 'NSW-CANCER-REGISTRY'], ['1003', 'SET', '328', '329', 'P'], ['1003', 'SET', '384', '390', 'PCI-19'], ['1003', 'DEPARTMENT', '401', '410', 'Diaphragm'], ['1003', 'DEPARTMENT', '422', '434', 'pelvic strip'], ['1003', 'DOCTOR', '426', '435', 'Z Varajas'], ['1003', 'LOCATION-OTHER', '477', '486', 'Umbilicus'], ['1003', 'MEDICALRECORD', '516', '532', '94-QH-48-4220673'], ['1003', 'HOSPITAL', '549', '566', 'BARALABA HOSPITAL'], ['1003', 'DATE', '602', '611', '2/10/2062', '2062-02-10'], ['1003', 'MEDICALRECORD', '605', '615', '94624-84GG'], ['1003', 'DATE', '627', '636', '16/1/2062', '2062-01-16'], ['1003', 'ORGANIZATION', '743', '750', 'OMENTUM'], ['1003', 'ORGANIZATION', '760', '771', 'RIGHT COLON'], ['1003', 'ORGANIZATION', '794', '803', 'DIAPHRAGM'], ['1003', 'ORGANIZATION', '837', '849', 'PELVIC STRIP'], ['1003', 'ORGANIZATION', '897', '906', 'UMBILICUS'], ['1003', 'ORGANIZATION', '966', '984', 'PERITONEAL DISEASE'], ['1003', 'LOCATION-OTHER', '824', '832', 'Multiple'], ['1003', 'DEPARTMENT', '868', '875', 'omentum'], ['1003', 'DEPARTMENT', '931', '936', 'bowel'], ['1003', 'DEPARTMENT', '1005', '1016', 'anastomosis'], ['1003', 'DEPARTMENT', '1072', '1077', 'bowel'], ['1003', 'DEPARTMENT', '1185', '1218', 'strips or peritoneum or diaphragm'], ['1003', 'DURATION', '1067', '1096', 'approximately 300x190x20-30mm', 'P3D'], ['1003', 'SET', '1098', '1105', '23/5/64', '2064-05-23'], ['1003', 'DURATION', '1213', '1216', 'two', 'P2D'], ['1003', 'DURATION', '1367', '1370', '5mm', 'PT5M'], ['1003', 'SET', '1420', '1426', 'second', 'R2'], ['1003', 'DURATION', '1510', '1512', '60', 'PT1M'], ['1003', 'DURATION', '1547', '1549', '65', 'PT1M'], ['1003', 'DURATION', '1639', '1641', '40', 'PT40S'], ['1003', 'DURATION', '1740', '1742', '30', 'PT30S'], ['1003', 'DURATION', '1670', '1673', '5mm', 'PT5M'], ['1003', 'LOCATION-OTHER', '1732', '1740', 'attached'], ['1003', 'MEDICALRECORD', '1770', '1781', '9462484.GGC'], ['1003', 'DURATION', '1963', '1990', 'approximately 300x70x5-10mm', 'P3W'], ['1003', 'SET', '1993', '1995', 'No'], ['1003', 'LOCATION-OTHER', '2059', '2068', 'diaphragm'], ['1003', 'SET', '2153', '2158', 'white', 'PHI:Null'], ['1003', 'DURATION', '2230', '2234', '10mm', 'PHI:Null'], ['1003', 'SET', '2184', '2192', 'multiple'], ['1003', 'MEDICALRECORD', '2297', '2308', '9462484.GGC'], ['1003', 'DOCTOR', '2323', '2325', '11'], ['1003', 'DOCTOR', '2329', '2330', '4'], ['1003', 'DOCTOR', '2345', '2346', '5'], ['1003', 'DOCTOR', '2425', '2426', '6'], ['1003', 'DOCTOR', '2553', '2554', '7'], ['1003', 'DOCTOR', '2694', '2695', '8'], ['1003', 'DOCTOR', '2694', '2695', '9'], ['1003', 'DOCTOR', '2694', '2696', '10'], ['1003', 'DOCTOR', '2853', '2857', '12 ?'], ['1003', 'DOCTOR', '3030', '3032', '13'], ['1003', 'DOCTOR', '3031', '3033', '14'], ['1003', 'DOCTOR', '3032', '3034', '15'], ['1003', 'DOCTOR', '3033', '3035', '16'], ['1003', 'DOCTOR', '3034', '3036', '17'], ['1003', 'DOCTOR', '3035', '3037', '18'], ['1003', 'DOCTOR', '3036', '3038', '19'], ['1003', 'DOCTOR', '3214', '3216', '20'], ['1003', 'DOCTOR', '2548', '2550', 'RS'], ['1003', 'AGE', '2554', '2558', 'M-20'], ['1003', 'DATE', '2561', '2568', '23/5/64', '2064-05-23'], ['1003', 'DOCTOR', '2567', '2576', 'Z Varajas'], ['1003', 'DOCTOR', '2663', '2665', 'AE'], ['1003', 'DEPARTMENT', '2669', '2672', '2-1'], ['1003', 'DOCTOR', '2680', '2682', 'BI'], ['1003', 'DOCTOR', '2693', '2696', 'ank'], ['1003', 'LOCATION-OTHER', '2745', '2752', 'omentum'], ['1003', 'LOCATION-OTHER', '2811', '2821', 'peritoneum'], ['1003', 'DATE', '2826', '2833', '23/5/64', '2064-05-23'], ['1003', 'DOCTOR', '2832', '2841', 'Z Varajas'], ['1003', 'LOCATION-OTHER', '3168', '3175', 'fibrous'], ['1003', 'LOCATION-OTHER', '3210', '3227', 'deep to umbilicus'], ['1003', 'SET', '3256', '3259', '0/1', 'Null'], ['1003', 'DATE', '3261', '3268', '23/5/64', '2064-05-23'], ['1003', 'DOCTOR', '3267', '3276', 'Z Varajas'], ['1003', 'ORGANIZATION', '3279', '3286', 'OMENTUM'], ['1003', 'ORGANIZATION', '3295', '3306', 'RIGHT COLON'], ['1003', 'ORGANIZATION', '3328', '3337', 'DIAPHRAGM'], ['1003', 'ORGANIZATION', '3370', '3382', 'PELVIC STRIP'], ['1003', 'ORGANIZATION', '3429', '3438', 'UMBILICUS'], ['1003', 'ORGANIZATION', '3499', '3517', 'PERITONEAL DISEASE'], ['1003', 'DOCTOR', '3361', '3370', 'Z Varajas'], ['1003', 'DEPARTMENT', '3466', '3476', 'LYMPH NODE'], ['1003', 'DURATION', '3487', '3504', 'RIGHT ILIAC CHAIN', 'P2D'], ['1003', 'SET', '3497', '3504', '23/5/64', '2064-05-23'], ['1003', 'DATE', '3527', '3534', '23/5/64', '2064-05-23'], ['1003', 'DOCTOR', '3543', '3552', 'Z Varajas'], ['1004', 'IDNUM', '13', '23', '52N379480L'], ['1004', 'MEDICALRECORD', '24', '35', '5253794.VBL'], ['1004', 'PATIENT', '37', '61', 'KLAAMEYER, Gaye Wadjarri'], ['1004', 'IDNUM', '72', '80', '52N37948'], ['1004', 'IDNUM', '89', '97', '52N37948'], ['1004', 'STREET', '90', '99', 'Schroeder'], ['1004', 'CITY', '100', '111', 'HURSTBRIDGE'], ['1004', 'STATE', '124', '126', 'SA'], ['1004', 'ZIP', '143', '147', '2464'], ['1004', 'SET', '132', '147', 'Washings,Tissue'], ['1004', 'DATE', '156', '165', '7/12/2004', '2004-12-07'], ['1004', 'AGE', '165', '170', ' note'], ['1004', 'DATE', '185', '194', '26/5/2064', '2064-05-26'], ['1004', 'DEPARTMENT', '210', '221', 'DAY SURGERY'], ['1004', 'HOSPITAL', '246', '279', 'RENMARK PARINGA DISTRICT HOSPITAL'], ['1004', 'DOCTOR', '261', '277', 'SYBIL RIVA SMIDT'], ['1004', 'ORGANIZATION', '294', '303', 'FILE-COPY'], ['1004', 'STATE', '332', '335', 'NSW'], ['1004', 'ORGANIZATION', '368', '383', 'CANCER-REGISTRY'], ['1004', 'DEPARTMENT', '327', '335', 'CLINICAL'], ['1004', 'IDNUM', '359', '360', '1']]\n"
     ]
    }
   ],
   "source": [
    "true_labels = []\n",
    "predicted_labels = []\n",
    "\n",
    "true_labels_file = 'answer_gold.txt'\n",
    "predicted_labels_file = 'prompt1.txt'\n",
    "\n",
    "with open(true_labels_file, 'r') as f:\n",
    "    for line in f:\n",
    "        label = line.strip().split('\\t')\n",
    "        if int(label[0]) > 1003:\n",
    "            break\n",
    "        true_labels.append(label)\n",
    "\n",
    "with open(predicted_labels_file, 'r') as f:\n",
    "    for line in f:\n",
    "        label = line.strip().split('\\t')\n",
    "        predicted_labels.append(label)\n",
    "\n",
    "print(true_labels)\n",
    "print(predicted_labels)"
   ]
  },
  {
   "cell_type": "markdown",
   "metadata": {},
   "source": [
    "## Method 1: Calculate via equation"
   ]
  },
  {
   "cell_type": "markdown",
   "metadata": {},
   "source": [
    "### Precision, Recall, F1"
   ]
  },
  {
   "cell_type": "code",
   "execution_count": 42,
   "metadata": {},
   "outputs": [],
   "source": [
    "def calculate_f1(true, predicted):\n",
    "    true_positives = 0\n",
    "    false_positives = 0\n",
    "    false_negatives = 0\n",
    "\n",
    "    # If exactly same, TP+1. If no, FP+1\n",
    "    for predicted_label in predicted:\n",
    "        if predicted_label in true:\n",
    "            true_positives += 1\n",
    "            true.remove(predicted_label)\n",
    "        else:\n",
    "            false_positives += 1\n",
    "\n",
    "    # No match, FN+1\n",
    "    false_negatives = len(true)\n",
    "\n",
    "    # Precision, Recall\n",
    "    precision = true_positives / (true_positives + false_positives)\n",
    "    recall = true_positives / (true_positives + false_negatives)\n",
    "\n",
    "    # f1\n",
    "    f1 = 2 * (precision * recall) / (precision + recall)\n",
    "\n",
    "    return f1"
   ]
  },
  {
   "cell_type": "markdown",
   "metadata": {},
   "source": [
    "### Calculate Scores"
   ]
  },
  {
   "cell_type": "code",
   "execution_count": 43,
   "metadata": {},
   "outputs": [
    {
     "name": "stdout",
     "output_type": "stream",
     "text": [
      "Macro F1: 0.25236593059936907\n"
     ]
    }
   ],
   "source": [
    "print(\"Macro F1:\", calculate_f1(true_labels.copy(), predicted_labels.copy()))"
   ]
  },
  {
   "cell_type": "markdown",
   "metadata": {},
   "source": [
    "## Method 2: Sklearn Macro F1 Score"
   ]
  },
  {
   "cell_type": "markdown",
   "metadata": {},
   "source": [
    "### Alignment"
   ]
  },
  {
   "cell_type": "code",
   "execution_count": 44,
   "metadata": {},
   "outputs": [],
   "source": [
    "def aligning_labels(true, predict):\n",
    "    aligned_true = []\n",
    "    aligned_predict = []\n",
    "\n",
    "    true_used = [False] * len(true)\n",
    "    predict_used = [False] * len(predict)\n",
    "\n",
    "    for i, true_entry in enumerate(true):\n",
    "        true_index = true_entry[0]\n",
    "        true_label = true_entry[1]\n",
    "        true_start = true_entry[2]\n",
    "        true_end = true_entry[3]\n",
    "        true_content = true_entry[4]\n",
    "\n",
    "        isMatched = False\n",
    "\n",
    "        for j, predict_entry in enumerate(predict):\n",
    "            predict_index = predict_entry[0]\n",
    "            predict_label = predict_entry[1]\n",
    "            predict_start = predict_entry[2]\n",
    "            predict_end = predict_entry[3]\n",
    "            predict_content = predict_entry[4]\n",
    "\n",
    "            # Same file no.\n",
    "            if true_index == predict_index:\n",
    "                match_count = sum(\n",
    "                    [true_start == predict_start, true_end == predict_end, true_content == predict_content, true_label == predict_label]\n",
    "                )\n",
    "                \n",
    "                # if >2 element matched\n",
    "                if match_count >= 2 and not true_used[i] and not predict_used[j]:\n",
    "                    aligned_true.append(true_entry)\n",
    "                    aligned_predict.append(predict_entry)\n",
    "                    true_used[i] = True\n",
    "                    predict_used[j] = True\n",
    "                    isMatched = True\n",
    "                    break\n",
    "\n",
    "        # if no match, padding with None\n",
    "        if isMatched == False:\n",
    "            aligned_true.append(true_entry)\n",
    "            aligned_predict.append(\"None\")\n",
    "            true_used[i] = True\n",
    "                \n",
    "    return aligned_true, aligned_predict,  predict_used, true_used"
   ]
  },
  {
   "cell_type": "markdown",
   "metadata": {},
   "source": [
    "## Calculate Marcro F1"
   ]
  },
  {
   "cell_type": "code",
   "execution_count": 45,
   "metadata": {},
   "outputs": [
    {
     "name": "stdout",
     "output_type": "stream",
     "text": [
      "1 ['1001', 'IDNUM', '13', '23', '88Y206206L'] \t ['1001', 'IDNUM', '13', '23', '88Y206206L']\n",
      "2 ['1001', 'MEDICALRECORD', '24', '35', '8892062.BPL'] \t ['1001', 'MEDICALRECORD', '24', '35', '8892062.BPL']\n",
      "3 ['1001', 'PATIENT', '37', '63', 'Vatterott, Jerrie CLARENCE'] \t ['1001', 'PATIENT', '37', '63', 'Vatterott, Jerrie CLARENCE']\n",
      "4 ['1001', 'IDNUM', '74', '82', '88Y20620'] \t ['1001', 'IDNUM', '74', '82', '88Y20620']\n",
      "5 ['1001', 'IDNUM', '83', '91', '88Y20620'] \t ['1001', 'IDNUM', '91', '99', '88Y20620']\n",
      "6 ['1001', 'STREET', '92', '98', 'Exeter'] \t ['1001', 'STREET', '92', '98', 'Exeter']\n",
      "7 ['1001', 'CITY', '99', '112', 'DECEPTION BAY'] \t ['1001', 'CITY', '99', '112', 'DECEPTION BAY']\n",
      "8 ['1001', 'STATE', '114', '132', 'Northern Territory'] \t ['1001', 'STATE', '127', '145', 'Northern Territory']\n",
      "9 ['1001', 'ZIP', '134', '138', '6845'] \t ['1001', 'ZIP', '180', '184', '6845']\n",
      "10 ['1001', 'DATE', '170', '180', '15/11/2004', '2004-11-15'] \t ['1001', 'DATE', '170', '180', '15/11/2004', '2004-11-15']\n",
      "11 ['1001', 'DATE', '200', '209', '20/5/2064', '2064-05-20'] \t ['1001', 'DATE', '200', '209', '20/5/2064', '2064-05-20']\n",
      "12 ['1001', 'DEPARTMENT', '226', '234', 'PARKES 8'] \t ['1001', 'DEPARTMENT', '226', '234', 'PARKES 8']\n",
      "13 ['1001', 'HOSPITAL', '237', '263', 'GUNNEDAH DISTRICT HOSPITAL'] \t ['1001', 'HOSPITAL', '256', '282', 'GUNNEDAH DISTRICT HOSPITAL']\n",
      "14 ['1001', 'DOCTOR', '267', '288', 'Edison Clay GOLDHIRSH'] \t ['1001', 'DOCTOR', '267', '288', 'Edison Clay GOLDHIRSH']\n",
      "15 ['1001', 'DATE', '400', '404', '2059', '2059'] \t ['1001', 'DATE', '400', '404', '2059', '2059']\n",
      "16 ['1001', 'DATE', '1193', '1197', '2059', '2059'] \t None\n",
      "17 ['1001', 'DOCTOR', '1212', '1215', 'Sek'] \t ['1001', 'DOCTOR', '1212', '1215', 'Sek']\n",
      "18 ['1001', 'DOCTOR', '1243', '1253', 'X Standrew'] \t None\n",
      "19 ['1001', 'TIME', '1257', '1274', '9:30am on 18/3/14', '2014-03-18T09:30'] \t ['1001', 'TIME', '1327', '1344', '9:30am on 18/3/14', '2014-03-18T09:30']\n",
      "20 ['1001', 'DOCTOR', '1802', '1804', 'KH'] \t ['1001', 'DOCTOR', '1802', '1804', 'KH']\n",
      "21 ['1001', 'DATE', '1808', '1815', '21/5/64', '2064-05-21'] \t ['1001', 'DATE', '1815', '1822', '21/5/64', '2064-05-21']\n",
      "22 ['1001', 'DOCTOR', '1846', '1853', 'X Karma'] \t ['1001', 'DOCTOR', '1846', '1853', 'X Karma']\n",
      "23 ['1001', 'HOSPITAL', '2215', '2235', 'HALLS CREEK HOSPITAL'] \t ['1001', 'HOSPITAL', '2215', '2235', 'HALLS CREEK HOSPITAL']\n",
      "24 ['1001', 'IDNUM', '2444', '2452', '88Y20620'] \t ['1001', 'IDNUM', '2444', '2452', '88Y20620']\n",
      "25 ['1001', 'DATE', '2476', '2483', '30.5.64', '2064-05-30'] \t ['1001', 'DATE', '2476', '2483', '30.5.64', '2064-05-30']\n",
      "26 ['1001', 'HOSPITAL', '2505', '2541', 'TRANGIE MULTI PURPOSE HEALTH SERVICE'] \t ['1001', 'HOSPITAL', '2505', '2541', 'TRANGIE MULTI PURPOSE HEALTH SERVICE']\n",
      "27 ['1001', 'DOCTOR', '2577', '2587', 'X Spittler'] \t ['1001', 'DOCTOR', '2633', '2643', 'X Spittler']\n",
      "28 ['1002', 'IDNUM', '14', '24', '46U2273647'] \t ['1002', 'IDNUM', '14', '24', '46U2273647']\n",
      "29 ['1002', 'MEDICALRECORD', '25', '36', '4672273.RKT'] \t ['1002', 'MEDICALRECORD', '25', '36', '4672273.RKT']\n",
      "30 ['1002', 'PATIENT', '38', '54', 'Parmar, Gregorio'] \t ['1002', 'PATIENT', '38', '54', 'Parmar, Gregorio']\n",
      "31 ['1002', 'IDNUM', '65', '73', '46U22736'] \t ['1002', 'IDNUM', '65', '73', '46U22736']\n",
      "32 ['1002', 'STREET', '74', '83', 'Underdale'] \t ['1002', 'STREET', '74', '83', 'Underdale']\n",
      "33 ['1002', 'CITY', '84', '93', 'TRAFALGAR'] \t ['1002', 'CITY', '84', '93', 'TRAFALGAR']\n",
      "34 ['1002', 'STATE', '95', '97', 'NT'] \t ['1002', 'STATE', '104', '106', 'NT']\n",
      "35 ['1002', 'ZIP', '99', '103', '3660'] \t ['1002', 'ZIP', '121', '125', '3660']\n",
      "36 ['1002', 'DATE', '129', '138', '7/12/1999', '1999-12-07'] \t ['1002', 'DATE', '129', '138', '7/12/1999', '1999-12-07']\n",
      "37 ['1002', 'TIME', '158', '177', '21/03/2014 at 13:26', '2014-03-21T13:26'] \t ['1002', 'TIME', '158', '177', '21/03/2014 at 13:26', '2014-03-21T13:26']\n",
      "38 ['1002', 'DEPARTMENT', '189', '210', '3HR STAY SURGICALUNIT'] \t ['1002', 'DEPARTMENT', '189', '210', '3HR STAY SURGICALUNIT']\n",
      "39 ['1002', 'HOSPITAL', '211', '264', 'ROBINVALE DISTRICT HEALTH SERVICES - ROBINVALE CAMPUS'] \t ['1002', 'HOSPITAL', '243', '296', 'ROBINVALE DISTRICT HEALTH SERVICES - ROBINVALE CAMPUS']\n",
      "40 ['1002', 'DOCTOR', '269', '289', 'GENARO ARMAND Forcht'] \t ['1002', 'DOCTOR', '269', '289', 'GENARO ARMAND Forcht']\n",
      "41 ['1002', 'DOCTOR', '2108', '2119', 'L. Lazewski'] \t ['1002', 'DOCTOR', '2108', '2119', 'L. Lazewski']\n",
      "42 ['1002', 'DATE', '2930', '2937', '27/5/64', '2064-05-27'] \t ['1002', 'DATE', '289', '296', '27/5/64', '2064-05-27']\n",
      "43 ['1003', 'IDNUM', '13', '23', '94Q248422C'] \t ['1003', 'IDNUM', '13', '23', '94Q248422C']\n",
      "44 ['1003', 'MEDICALRECORD', '24', '35', '9462484.GGC'] \t ['1003', 'MEDICALRECORD', '24', '35', '9462484.GGC']\n",
      "45 ['1003', 'PATIENT', '37', '56', 'Pullon, Loren DUANE'] \t ['1003', 'PATIENT', '37', '56', 'Pullon, Loren DUANE']\n",
      "46 ['1003', 'IDNUM', '67', '75', '94Q24842'] \t ['1003', 'IDNUM', '67', '75', '94Q24842']\n",
      "47 ['1003', 'STREET', '76', '84', 'Bellanca'] \t ['1003', 'STREET', '76', '84', 'Bellanca']\n",
      "48 ['1003', 'CITY', '85', '93', 'COOKTOWN'] \t ['1003', 'CITY', '85', '93', 'COOKTOWN']\n",
      "49 ['1003', 'STATE', '95', '98', 'VIC'] \t ['1003', 'STATE', '103', '106', 'VIC']\n",
      "50 ['1003', 'ZIP', '100', '104', '2739'] \t ['1003', 'ZIP', '121', '125', '2739']\n",
      "51 ['1003', 'DATE', '130', '139', '29/9/2000', '2000-09-29'] \t ['1003', 'DATE', '136', '145', '29/9/2000', '2000-09-29']\n",
      "52 ['1003', 'TIME', '159', '178', '18/03/2014 at 19:04', '2014-03-18T19:04'] \t ['1003', 'TIME', '159', '178', '18/03/2014 at 19:04', '2014-03-18T19:04']\n",
      "53 ['1003', 'DEPARTMENT', '190', '200', '2.PARKES 8'] \t ['1003', 'DEPARTMENT', '190', '200', '2.PARKES 8']\n",
      "54 ['1003', 'HOSPITAL', '201', '239', 'TULLAMORE MULTI PURPOSE HEALTH SERVICE'] \t ['1003', 'HOSPITAL', '222', '260', 'TULLAMORE MULTI PURPOSE HEALTH SERVICE']\n",
      "55 ['1003', 'DOCTOR', '244', '267', 'FELIPE Eldridge ALLCORN'] \t ['1003', 'DOCTOR', '244', '267', 'FELIPE Eldridge ALLCORN']\n",
      "56 ['1003', 'IDNUM', '516', '532', '94-QH-48-4220673'] \t ['1003', 'MEDICALRECORD', '516', '532', '94-QH-48-4220673']\n",
      "57 ['1003', 'HOSPITAL', '533', '550', 'BARALABA HOSPITAL'] \t ['1003', 'HOSPITAL', '549', '566', 'BARALABA HOSPITAL']\n",
      "58 ['1003', 'DATE', '552', '561', '2/10/2062', '2062-02-10'] \t ['1003', 'DATE', '602', '611', '2/10/2062', '2062-02-10']\n",
      "59 ['1003', 'IDNUM', '605', '615', '94624-84GG'] \t ['1003', 'MEDICALRECORD', '605', '615', '94624-84GG']\n",
      "60 ['1003', 'DATE', '617', '626', '16/1/2062', '2062-01-16'] \t ['1003', 'DATE', '627', '636', '16/1/2062', '2062-01-16']\n",
      "61 ['1003', 'DATE', '3527', '3534', '23/5/64', '2064-05-23'] \t ['1003', 'DATE', '121', '128', '23/5/64', '2064-05-23']\n",
      "62 ['1003', 'DOCTOR', '3536', '3545', 'Z Varajas'] \t ['1003', 'DOCTOR', '426', '435', 'Z Varajas']\n",
      "[True, True, True, True, True, True, True, True, True, True, True, True, True, True, True, True, True, True, True, True, True, True, True, True, True, True, True, True, True, True, True, True, True, True, True, True, True, True, True, True, True, True, True, True, True, True, True, True, True, True, True, True, True, True, True, True, True, True, True, True, True, True]\n",
      "Useless Prediction Count:  195\n",
      "Useless True Count:  0\n",
      "marcro f1:  0.8879060806978427\n"
     ]
    }
   ],
   "source": [
    "from sklearn.metrics import f1_score\n",
    "\n",
    "aligned_true, aligned_predict, predict_used, true_used= aligning_labels(true_labels.copy(), predicted_labels.copy())\n",
    "\n",
    "# print aligned result\n",
    "for i in range(len(aligned_true)):\n",
    "    print(i+1, aligned_true[i], '\\t',aligned_predict[i])\n",
    "\n",
    "# useless prediction count\n",
    "print(\"Useless Prediction Count: \",predict_used.count(False))\n",
    "print(\"Useless True Count: \",true_used.count(False))\n",
    "\n",
    "# Get labels for F1\n",
    "aligned_true_labels = [entry[1] for entry in aligned_true]\n",
    "aligned_predicted_labels = [entry[1] if entry != \"None\" else \"None\" for entry in aligned_predict]\n",
    "f1 = f1_score(aligned_true_labels, aligned_predicted_labels, average='macro')\n",
    "\n",
    "#for i, j in zip(aligned_true_labels, aligned_predicted_labels):\n",
    "    #print(i,j)\n",
    "\n",
    "print(\"marcro f1: \", f1)"
   ]
  }
 ],
 "metadata": {
  "kernelspec": {
   "display_name": "Python 3",
   "language": "python",
   "name": "python3"
  },
  "language_info": {
   "codemirror_mode": {
    "name": "ipython",
    "version": 3
   },
   "file_extension": ".py",
   "mimetype": "text/x-python",
   "name": "python",
   "nbconvert_exporter": "python",
   "pygments_lexer": "ipython3",
   "version": "3.8.10"
  }
 },
 "nbformat": 4,
 "nbformat_minor": 2
}
